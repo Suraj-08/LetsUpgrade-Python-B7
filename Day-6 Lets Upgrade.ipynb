{
 "cells": [
  {
   "cell_type": "markdown",
   "metadata": {},
   "source": [
    "\n",
    "# OOPS"
   ]
  },
  {
   "cell_type": "code",
   "execution_count": null,
   "metadata": {},
   "outputs": [],
   "source": [
    "class Bank_account():\n",
    "    def __init__(self,OwnerName,Amount):\n",
    "        self.Balance = 0\n",
    "        self.OwnerName = OwnerName\n",
    "        self.Amount = Amount\n",
    "    \n",
    "    def deposit(self):\n",
    "        Amount = int(input(\"Enter Deposit amount:-\"))\n",
    "        Balance = int(input(\"Enter Amount in Bank:-\"))\n",
    "        print(\"Name:\",self.OwnerName)\n",
    "        print(\"Remaining Balance =\",Balance + Amount)\n",
    "      \n",
    "    def withdraw(self):\n",
    "       Amount = int(input(\"Enter Withdrawl amount:-\"))\n",
    "       Balance = int(input(\"Enter Amount in Bank:-\"))\n",
    "       print(\"Name:\",self.OwnerName)\n",
    "       print(\"Amount after withdrawl =\",Balance - Amount)\n",
    "\n",
    "Owner = Bank_account(\"Siva\",5000)\n",
    "print(Owner.deposit())\n",
    "Withdraw = Bank_account(\"Malik\",9000)\n",
    "print(Withdraw.withdraw())"
   ]
  },
  {
   "cell_type": "markdown",
   "metadata": {},
   "source": [
    "# Cone"
   ]
  },
  {
   "cell_type": "code",
   "execution_count": null,
   "metadata": {},
   "outputs": [],
   "source": [
    "import math\n",
    "radius = float(input('Enter the Radius of Cone:- '))\n",
    "height = float(input('Enter the Height of Cone:- '))\n",
    "\n",
    "length = math.sqrt(radius * radius + height * height)\n",
    "\n",
    "Surface_area = math.pi * radius * (radius + length)\n",
    "\n",
    "Volume = (1.0/3) * math.pi * radius * radius * height\n",
    "\n",
    "print(\"Length of a Side = %.2f\" %length)\n",
    "print(\"Surface Area = %.2f \" %Surface_area)\n",
    "print(\"Volume = %.2f\" %Volume);"
   ]
  },
  {
   "cell_type": "code",
   "execution_count": null,
   "metadata": {},
   "outputs": [],
   "source": []
  }
 ],
 "metadata": {
  "kernelspec": {
   "display_name": "Python 3",
   "language": "python",
   "name": "python3"
  },
  "language_info": {
   "codemirror_mode": {
    "name": "ipython",
    "version": 3
   },
   "file_extension": ".py",
   "mimetype": "text/x-python",
   "name": "python",
   "nbconvert_exporter": "python",
   "pygments_lexer": "ipython3",
   "version": "3.7.4"
  }
 },
 "nbformat": 4,
 "nbformat_minor": 2
}
